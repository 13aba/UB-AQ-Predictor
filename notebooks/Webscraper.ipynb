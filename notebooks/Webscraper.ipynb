{
 "cells": [
  {
   "cell_type": "code",
   "execution_count": 16,
   "id": "8b9f6cdc",
   "metadata": {},
   "outputs": [],
   "source": [
    "from selenium import webdriver\n",
    "from selenium.webdriver.chrome.options import Options\n",
    "from selenium.webdriver.common.by import By"
   ]
  },
  {
   "cell_type": "code",
   "execution_count": 21,
   "id": "95479254",
   "metadata": {},
   "outputs": [],
   "source": [
    "options = Options()\n",
    "options.add_argument(\"--headless\")"
   ]
  },
  {
   "cell_type": "code",
   "execution_count": 23,
   "id": "f18bc1d6",
   "metadata": {},
   "outputs": [],
   "source": [
    "driver = webdriver.Chrome(options=options)\n",
    "driver.get(\"http://agaar.mn/station/8\")"
   ]
  },
  {
   "cell_type": "code",
   "execution_count": 31,
   "id": "18aae2ec",
   "metadata": {},
   "outputs": [],
   "source": [
    "all_class = driver.find_elements(By.CLASS_NAME, \"col-xs-4\")"
   ]
  },
  {
   "cell_type": "code",
   "execution_count": 32,
   "id": "a4ca5879",
   "metadata": {},
   "outputs": [
    {
     "name": "stdout",
     "output_type": "stream",
     "text": [
      "76\n",
      "23\n",
      "6\n",
      "9\n",
      "28\n"
     ]
    }
   ],
   "source": [
    "measurements = all_class[3:17:3]\n",
    "\n",
    "for m in measurements:\n",
    "    print(m.text)"
   ]
  },
  {
   "cell_type": "code",
   "execution_count": 37,
   "id": "3668eb82",
   "metadata": {},
   "outputs": [],
   "source": [
    "temp = driver.find_element(By.ID, \"temperature\").text"
   ]
  },
  {
   "cell_type": "code",
   "execution_count": 40,
   "id": "e7a59a51",
   "metadata": {},
   "outputs": [],
   "source": [
    "temp_int = temp.split(\" \")[1]"
   ]
  },
  {
   "cell_type": "code",
   "execution_count": 41,
   "id": "05a79f7c",
   "metadata": {},
   "outputs": [
    {
     "name": "stdout",
     "output_type": "stream",
     "text": [
      "4.9\n"
     ]
    }
   ],
   "source": [
    "print(temp_int)"
   ]
  },
  {
   "cell_type": "code",
   "execution_count": null,
   "id": "803438f5",
   "metadata": {},
   "outputs": [],
   "source": []
  }
 ],
 "metadata": {
  "kernelspec": {
   "display_name": "Python 3 (ipykernel)",
   "language": "python",
   "name": "python3"
  },
  "language_info": {
   "codemirror_mode": {
    "name": "ipython",
    "version": 3
   },
   "file_extension": ".py",
   "mimetype": "text/x-python",
   "name": "python",
   "nbconvert_exporter": "python",
   "pygments_lexer": "ipython3",
   "version": "3.11.5"
  }
 },
 "nbformat": 4,
 "nbformat_minor": 5
}
